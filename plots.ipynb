{
 "metadata": {
  "language_info": {
   "codemirror_mode": {
    "name": "ipython",
    "version": 3
   },
   "file_extension": ".py",
   "mimetype": "text/x-python",
   "name": "python",
   "nbconvert_exporter": "python",
   "pygments_lexer": "ipython3",
   "version": "3.8.8-final"
  },
  "orig_nbformat": 2,
  "kernelspec": {
   "name": "python388jvsc74a57bd0d10e769c219f9da5a3d7760843aafff621de087e4ea080ff86823ad33b7b3eee",
   "display_name": "Python 3.8.8 64-bit ('base': conda)"
  }
 },
 "nbformat": 4,
 "nbformat_minor": 2,
 "cells": [
  {
   "cell_type": "code",
   "execution_count": 1,
   "metadata": {},
   "outputs": [],
   "source": [
    "import ipywidgets as widgets\n",
    "import utils\n",
    "\n",
    "import numpy as np\n",
    "import pandas as pd\n",
    "\n",
    "import warnings\n",
    "warnings.filterwarnings(\"ignore\")\n",
    "\n",
    "%load_ext autoreload\n",
    "%autoreload 2"
   ]
  },
  {
   "source": [
    "# program"
   ],
   "cell_type": "markdown",
   "metadata": {}
  },
  {
   "cell_type": "code",
   "execution_count": 2,
   "metadata": {},
   "outputs": [],
   "source": [
    "# import integrated data\n",
    "filename_integrated = \"./data/PDR17G1E20_n_cte_with_cd.dat\"\n",
    "\n",
    "df_integrated = utils.read_extraction_result_dat(filename_integrated)\n",
    "df_integrated = df_integrated.apply(lambda x: np.log10(x))\n",
    "df_integrated = df_integrated[df_integrated[\"[003]Avmax\"] == 1.]\n",
    "df_integrated = df_integrated.set_index([\"[001]nH\", \"[002]radm\"])"
   ]
  },
  {
   "cell_type": "code",
   "execution_count": 3,
   "metadata": {},
   "outputs": [
    {
     "output_type": "stream",
     "name": "stderr",
     "text": [
      "100%|██████████| 302/302 [00:11<00:00, 25.30it/s]\n"
     ]
    }
   ],
   "source": [
    "# import non integrated data\n",
    "df_non_integrated_all = utils.scrape_all_files()\n",
    "\n",
    "list_transitions = [\n",
    "    col.replace(\"Line optical depth observer side(\", \"\")[:-1] \n",
    "    for col in df_non_integrated_all.columns if \"Line optical \" in col\n",
    "]"
   ]
  },
  {
   "cell_type": "code",
   "execution_count": 4,
   "metadata": {},
   "outputs": [
    {
     "output_type": "display_data",
     "data": {
      "text/plain": "interactive(children=(Select(description='transition', options=('C+ El=2P,J=3/2->El=2P,J=1/2', 'O El=3P,J=1->E…",
      "application/vnd.jupyter.widget-view+json": {
       "version_major": 2,
       "version_minor": 0,
       "model_id": "19751434e25c495fa92727342351a773"
      }
     },
     "metadata": {}
    }
   ],
   "source": [
    "widgets.interact(\n",
    "    utils.extract_and_plot,\n",
    "    df=widgets.fixed(df_non_integrated_all),\n",
    "    df_integrated=widgets.fixed(df_integrated),\n",
    "    list_transitions=widgets.fixed(list_transitions),\n",
    "    transition=widgets.Select(options=list_transitions, value=list_transitions[0]), \n",
    "    n_levels=widgets.IntSlider(min=3, max=20, step=1, value=10)\n",
    ");"
   ]
  },
  {
   "cell_type": "code",
   "execution_count": null,
   "metadata": {},
   "outputs": [],
   "source": []
  },
  {
   "cell_type": "code",
   "execution_count": null,
   "metadata": {},
   "outputs": [],
   "source": []
  }
 ]
}